{
 "cells": [
  {
   "cell_type": "markdown",
   "metadata": {},
   "source": [
    "# Week 2 - Monday Lesson (variable assignment, loops, lists)"
   ]
  },
  {
   "cell_type": "markdown",
   "metadata": {},
   "source": [
    "## Tasks Today:\n",
    "\n",
    "1) Int & Float assignments <br>\n",
    " &nbsp;&nbsp;&nbsp;&nbsp; a) Assigning int <br>\n",
    " &nbsp;&nbsp;&nbsp;&nbsp; b) Assigning float <br>\n",
    " &nbsp;&nbsp;&nbsp;&nbsp; c) Performing Calculations on ints and floats <br>\n",
    " &nbsp;&nbsp;&nbsp;&nbsp;&nbsp;&nbsp;&nbsp;&nbsp; - Addition <br>\n",
    " &nbsp;&nbsp;&nbsp;&nbsp;&nbsp;&nbsp;&nbsp;&nbsp; - Subtraction <br>\n",
    " &nbsp;&nbsp;&nbsp;&nbsp;&nbsp;&nbsp;&nbsp;&nbsp; - Multiplication <br>\n",
    " &nbsp;&nbsp;&nbsp;&nbsp;&nbsp;&nbsp;&nbsp;&nbsp; - Division <br>\n",
    " &nbsp;&nbsp;&nbsp;&nbsp;&nbsp;&nbsp;&nbsp;&nbsp; - Floor Division <br>\n",
    " &nbsp;&nbsp;&nbsp;&nbsp;&nbsp;&nbsp;&nbsp;&nbsp; - Modulo <br>\n",
    " &nbsp;&nbsp;&nbsp;&nbsp;&nbsp;&nbsp;&nbsp;&nbsp; - Exponential <br>\n",
    "2) String Input-Output <br>\n",
    " &nbsp;&nbsp;&nbsp;&nbsp; a) String Assignment <br>\n",
    " &nbsp;&nbsp;&nbsp;&nbsp; b) print() <br>\n",
    " &nbsp;&nbsp;&nbsp;&nbsp; c) String Concatenation <br>\n",
    " &nbsp;&nbsp;&nbsp;&nbsp; d) Type Conversion <br>\n",
    " &nbsp;&nbsp;&nbsp;&nbsp; e) input() <br>\n",
    " &nbsp;&nbsp;&nbsp;&nbsp; f) format() <br>\n",
    " &nbsp;&nbsp;&nbsp;&nbsp; g) Old Way (python 2) <br>\n",
    "3) <b>In-Class Exercise #1</b> <br>\n",
    "4) If Statements <br>\n",
    " &nbsp;&nbsp;&nbsp;&nbsp; a) 'is' keyword <br>\n",
    " &nbsp;&nbsp;&nbsp;&nbsp; b) 'in' keyword <br>\n",
    " &nbsp;&nbsp;&nbsp;&nbsp; c) 'not in' keyword <br>\n",
    "5) <b>In-Class Exercise #2</b> <br>\n",
    "6) Elif Statements <br>\n",
    "7) Else Statements <br>\n",
    "8) <b>In-Class Exercise #3</b> <br>\n",
    "9) For Loops <br>\n",
    " &nbsp;&nbsp;&nbsp;&nbsp; a) Using 'in' keyword <br>\n",
    " &nbsp;&nbsp;&nbsp;&nbsp; b) Continue Statement <br>\n",
    " &nbsp;&nbsp;&nbsp;&nbsp; c) Break Statement <br>\n",
    " &nbsp;&nbsp;&nbsp;&nbsp; d) Pass Statement <br>\n",
    " &nbsp;&nbsp;&nbsp;&nbsp; e) Double For Loops <br>\n",
    "10) While Loops <br>\n",
    " &nbsp;&nbsp;&nbsp;&nbsp; a) Looping 'While True' <br>\n",
    " &nbsp;&nbsp;&nbsp;&nbsp; b) While and For Loops Used Together <br>\n",
    "11) Built-In Functions <br>\n",
    " &nbsp;&nbsp;&nbsp;&nbsp; a) range() <br>\n",
    " &nbsp;&nbsp;&nbsp;&nbsp; b) len() <br>\n",
    " &nbsp;&nbsp;&nbsp;&nbsp; c) help() <br>\n",
    " &nbsp;&nbsp;&nbsp;&nbsp; d) isinstance() <br>\n",
    " &nbsp;&nbsp;&nbsp;&nbsp; e) abs() <br>\n",
    "12) Try and Except <br>\n",
    "13) Lists <br>\n",
    " &nbsp;&nbsp;&nbsp;&nbsp; a) Declaring Lists <br>\n",
    " &nbsp;&nbsp;&nbsp;&nbsp; b) Indexing a List <br>\n",
    " &nbsp;&nbsp;&nbsp;&nbsp; c) .append() <br>\n",
    " &nbsp;&nbsp;&nbsp;&nbsp; d) .insert() <br>\n",
    " &nbsp;&nbsp;&nbsp;&nbsp; e) .pop() <br>\n",
    " &nbsp;&nbsp;&nbsp;&nbsp; f) .remove() <br>\n",
    " &nbsp;&nbsp;&nbsp;&nbsp; g) del() <br>\n",
    " &nbsp;&nbsp;&nbsp;&nbsp; h) Concatenating Two Lists <br>\n",
    " &nbsp;&nbsp;&nbsp;&nbsp; i) Lists Within Lists <br>\n",
    " &nbsp;&nbsp;&nbsp;&nbsp; j) Looping Through Lists <br>"
   ]
  },
  {
   "cell_type": "markdown",
   "metadata": {},
   "source": [
    "### Int & Float Assignments"
   ]
  },
  {
   "cell_type": "markdown",
   "metadata": {},
   "source": [
    "##### Assigning int"
   ]
  },
  {
   "cell_type": "code",
   "execution_count": 1,
   "metadata": {},
   "outputs": [
    {
     "name": "stdout",
     "output_type": "stream",
     "text": [
      "6\n"
     ]
    }
   ],
   "source": [
    "number = 6\n",
    "\n",
    "print(number)\n"
   ]
  },
  {
   "cell_type": "markdown",
   "metadata": {},
   "source": [
    "##### Assinging float"
   ]
  },
  {
   "cell_type": "code",
   "execution_count": 3,
   "metadata": {},
   "outputs": [
    {
     "name": "stdout",
     "output_type": "stream",
     "text": [
      "2.3\n",
      "2.5\n"
     ]
    }
   ],
   "source": [
    "numberFloat = 2.3\n",
    "\n",
    "print(numberFloat)\n",
    "\n",
    "numberFloat = 2.5\n",
    "print(numberFloat)"
   ]
  },
  {
   "cell_type": "markdown",
   "metadata": {},
   "source": [
    "#### Performing Calculations on ints and floats"
   ]
  },
  {
   "cell_type": "markdown",
   "metadata": {},
   "source": [
    "##### Addition"
   ]
  },
  {
   "cell_type": "code",
   "execution_count": 6,
   "metadata": {},
   "outputs": [
    {
     "name": "stdout",
     "output_type": "stream",
     "text": [
      "7.4\n"
     ]
    }
   ],
   "source": [
    "num1 = 2\n",
    "num2 = 5.4\n",
    "result = num1 + num2\n",
    "print(result)"
   ]
  },
  {
   "cell_type": "markdown",
   "metadata": {},
   "source": [
    "##### Subtraction"
   ]
  },
  {
   "cell_type": "code",
   "execution_count": 12,
   "metadata": {},
   "outputs": [
    {
     "name": "stdout",
     "output_type": "stream",
     "text": [
      "1\n"
     ]
    }
   ],
   "source": [
    "result_diff = 5-2\n",
    "\n",
    "#short hand version\n",
    "result_diff -=2\n",
    "print(result_diff)"
   ]
  },
  {
   "cell_type": "markdown",
   "metadata": {},
   "source": [
    "##### Multiplication"
   ]
  },
  {
   "cell_type": "code",
   "execution_count": 14,
   "metadata": {},
   "outputs": [
    {
     "name": "stdout",
     "output_type": "stream",
     "text": [
      "10.8\n",
      "32.400000000000006\n"
     ]
    }
   ],
   "source": [
    "result_mul = num1* num2\n",
    "print(result_mul)\n",
    "\n",
    "#shorthand version\n",
    "result_mul *=3\n",
    "print(result_mul)"
   ]
  },
  {
   "cell_type": "markdown",
   "metadata": {},
   "source": [
    "##### Division"
   ]
  },
  {
   "cell_type": "code",
   "execution_count": 15,
   "metadata": {},
   "outputs": [
    {
     "name": "stdout",
     "output_type": "stream",
     "text": [
      "2.7\n",
      "1.35\n"
     ]
    }
   ],
   "source": [
    "result_div = num2/num1\n",
    "print(result_div)\n",
    "\n",
    "result_div /=2\n",
    "print(result_div)"
   ]
  },
  {
   "cell_type": "markdown",
   "metadata": {},
   "source": [
    "##### Floor Division"
   ]
  },
  {
   "cell_type": "code",
   "execution_count": 17,
   "metadata": {},
   "outputs": [
    {
     "name": "stdout",
     "output_type": "stream",
     "text": [
      "2.0\n",
      "1.0\n"
     ]
    }
   ],
   "source": [
    "result_floor= num2 // num1\n",
    "print(result_floor)\n",
    "\n",
    "#shorthand\n",
    "result_floor //=2\n",
    "print(result_floor)"
   ]
  },
  {
   "cell_type": "markdown",
   "metadata": {},
   "source": [
    "##### Modulo"
   ]
  },
  {
   "cell_type": "code",
   "execution_count": 20,
   "metadata": {},
   "outputs": [
    {
     "name": "stdout",
     "output_type": "stream",
     "text": [
      "1\n",
      "1\n"
     ]
    }
   ],
   "source": [
    "result_mod = 10 % 3\n",
    "print(result_mod)\n",
    "\n",
    "#shorthand\n",
    "result_mod %= 2\n",
    "print(result_mod)"
   ]
  },
  {
   "cell_type": "markdown",
   "metadata": {},
   "source": [
    "##### Exponential"
   ]
  },
  {
   "cell_type": "code",
   "execution_count": 22,
   "metadata": {},
   "outputs": [
    {
     "name": "stdout",
     "output_type": "stream",
     "text": [
      "25\n",
      "625\n"
     ]
    }
   ],
   "source": [
    "square = 5**2\n",
    "print(square)\n",
    "\n",
    "#shorthand\n",
    "square **=2\n",
    "print(square)"
   ]
  },
  {
   "cell_type": "markdown",
   "metadata": {},
   "source": [
    "### String Input-Output"
   ]
  },
  {
   "cell_type": "markdown",
   "metadata": {},
   "source": [
    "##### String Assignment"
   ]
  },
  {
   "cell_type": "code",
   "execution_count": null,
   "metadata": {},
   "outputs": [],
   "source": [
    "name = \"sean\"\n",
    "print(name)"
   ]
  },
  {
   "cell_type": "markdown",
   "metadata": {},
   "source": [
    "##### print() <br>\n",
    "<p>Don't forget about end=' '</p>"
   ]
  },
  {
   "cell_type": "code",
   "execution_count": 28,
   "metadata": {},
   "outputs": [
    {
     "name": "stdout",
     "output_type": "stream",
     "text": [
      "This is my name :  Sean\n",
      "Full name:  Sean Bunk"
     ]
    }
   ],
   "source": [
    "print(\"This is my name : \", name.title())\n",
    "\n",
    "print(\"Full name: \", name.title(), end=\" Bunk\")"
   ]
  },
  {
   "cell_type": "markdown",
   "metadata": {},
   "source": [
    "##### String Concatenation"
   ]
  },
  {
   "cell_type": "code",
   "execution_count": 32,
   "metadata": {},
   "outputs": [
    {
     "name": "stdout",
     "output_type": "stream",
     "text": [
      "John Smith\n",
      "John Smith Jr.\n"
     ]
    }
   ],
   "source": [
    "first_name= \"John\"\n",
    "last_name= \"Smith\"\n",
    "full_name = first_name +' '+ last_name\n",
    "print(full_name)\n",
    "\n",
    "#shorthand\n",
    "full_name += \" Jr.\"\n",
    "print(full_name)"
   ]
  },
  {
   "cell_type": "markdown",
   "metadata": {},
   "source": [
    "##### Type Conversion"
   ]
  },
  {
   "cell_type": "code",
   "execution_count": 35,
   "metadata": {},
   "outputs": [
    {
     "name": "stdout",
     "output_type": "stream",
     "text": [
      "37\n"
     ]
    }
   ],
   "source": [
    "number = \"32\"\n",
    "change_type_num = int(number)\n",
    "change_type_num +=5\n",
    "print(change_type_num)"
   ]
  },
  {
   "cell_type": "markdown",
   "metadata": {},
   "source": [
    "##### input()"
   ]
  },
  {
   "cell_type": "code",
   "execution_count": 41,
   "metadata": {},
   "outputs": [
    {
     "name": "stdout",
     "output_type": "stream",
     "text": [
      "How old are you? 33\n",
      "34\n"
     ]
    }
   ],
   "source": [
    "# # input() will ALWAYS return a string!!! ALL THE TIME\n",
    "\n",
    "# name = input(\"What is your name? \")\n",
    "# print(name)\n",
    "\n",
    "age = int(input(\"How old are you? \"))\n",
    "new_age = age + 1\n",
    "print(new_age)\n",
    "# print(age)"
   ]
  },
  {
   "cell_type": "markdown",
   "metadata": {},
   "source": [
    "##### format()"
   ]
  },
  {
   "cell_type": "code",
   "execution_count": 50,
   "metadata": {},
   "outputs": [
    {
     "name": "stdout",
     "output_type": "stream",
     "text": [
      "What is your age? 33\n",
      "What is your name? sean bunk\n",
      "You Are  Sean Bunk, You Are 33 Years Old And You Are Getting Wiser!\n"
     ]
    }
   ],
   "source": [
    "age = input(\"What is your age? \")\n",
    "name = input(\"What is your name? \")\n",
    "\n",
    "# age= 99\n",
    "# name = \"Sean\"\n",
    "\n",
    "result_string = \"You are  {}, you are {} years old and you are getting wiser!\".format(name, age).title()\n",
    "print(result_string)\n",
    "\n",
    "# result_again = f\"{age + 2} is a great time in life!\"\n",
    "# print(result_again)\n",
    "\n"
   ]
  },
  {
   "cell_type": "markdown",
   "metadata": {},
   "source": [
    "##### Old Way (python 2)"
   ]
  },
  {
   "cell_type": "code",
   "execution_count": 48,
   "metadata": {},
   "outputs": [
    {
     "name": "stdout",
     "output_type": "stream",
     "text": [
      "You are 99 and you look great for your age!\n"
     ]
    }
   ],
   "source": [
    "result_string2 =  \"You are %s and you look great for your age!\" %age\n",
    "print(result_string2)"
   ]
  },
  {
   "cell_type": "markdown",
   "metadata": {},
   "source": [
    "# In-Class Exercise 1 <br>\n",
    "<p>Create a format statement that asks for color, year, make, model and prints out the results</p>"
   ]
  },
  {
   "cell_type": "code",
   "execution_count": 1,
   "metadata": {},
   "outputs": [
    {
     "name": "stdout",
     "output_type": "stream",
     "text": [
      "What is the color of your vehicle? Black\n",
      "What is the year of your car? 2010\n",
      "What is the name of your car? Civic SI\n",
      "What is the make of your car? Honda\n",
      "Your car is a Civic SI, made by Honda, is a 2010 model, and is the color Black.\n"
     ]
    }
   ],
   "source": [
    "color = input(\"What is the color of your vehicle? \")\n",
    "year = input(\"What is the year of your car? \")\n",
    "model = input(\"What is the name of your car? \")\n",
    "make = input(\"What is the make of your car? \")\n",
    "result = \"Your car is a {}, made by {}, is a {} model, and is the color {}.\".format(model, make, year, color)\n",
    "\n",
    "print(result)"
   ]
  },
  {
   "cell_type": "markdown",
   "metadata": {},
   "source": [
    "### If Statements"
   ]
  },
  {
   "cell_type": "code",
   "execution_count": 13,
   "metadata": {},
   "outputs": [
    {
     "name": "stdout",
     "output_type": "stream",
     "text": [
      "Equal values\n",
      "Num2 is greater than or equal to\n"
     ]
    }
   ],
   "source": [
    "# Available operators: Greater(>), Less(<),Equal(==)\n",
    "# Greater or Equal(>=), Less or Equal (<=)\n",
    "\n",
    "#if thing that is true or false is true:\n",
    "    #do this stuff\n",
    "#this part will happen anyways\n",
    "\n",
    "num2 = 10 \n",
    "num1 = 5\n",
    "\n",
    "if num1 == num1:\n",
    "    print(\"Equal values\")\n",
    "else:\n",
    "    print(\"Not equal\")\n",
    "if num2 >= num1:\n",
    "    print(\"Num2 is greater than or equal to\")\n",
    "elif num2 < num1:\n",
    "        print(\"Num2 is less than\")\n",
    "else:\n",
    "    print(\"They're the same\")\n",
    "    \n",
    "    "
   ]
  },
  {
   "cell_type": "markdown",
   "metadata": {},
   "source": [
    "##### 'is' keyword"
   ]
  },
  {
   "cell_type": "code",
   "execution_count": 18,
   "metadata": {
    "scrolled": true
   },
   "outputs": [
    {
     "name": "stdout",
     "output_type": "stream",
     "text": [
      "This is the exact number\n"
     ]
    }
   ],
   "source": [
    "# use 'is' when checking for same or similar object, NOT the same value\n",
    "\n",
    "num3 = 55\n",
    "num4 = num3\n",
    "if num3 is num4:\n",
    "    print(\"This is the exact number\")"
   ]
  },
  {
   "cell_type": "markdown",
   "metadata": {},
   "source": [
    "##### 'in' keyword"
   ]
  },
  {
   "cell_type": "code",
   "execution_count": 19,
   "metadata": {},
   "outputs": [
    {
     "name": "stdout",
     "output_type": "stream",
     "text": [
      "This character who lost everything...\n"
     ]
    }
   ],
   "source": [
    "char_name = \"Max Payne\"\n",
    "\n",
    "if \"Max\" in char_name:\n",
    "    print(\"This character who lost everything...\")"
   ]
  },
  {
   "cell_type": "markdown",
   "metadata": {},
   "source": [
    "##### 'not in' keyword'"
   ]
  },
  {
   "cell_type": "code",
   "execution_count": 20,
   "metadata": {},
   "outputs": [
    {
     "name": "stdout",
     "output_type": "stream",
     "text": [
      "a is NOT HERE\n"
     ]
    }
   ],
   "source": [
    "sega_char = \"Sonic\"\n",
    "\n",
    "if 'a' not in sega_char:\n",
    "    print(\"a is NOT HERE\")"
   ]
  },
  {
   "cell_type": "markdown",
   "metadata": {},
   "source": [
    "# In-Class Exercise 2 <br>\n",
    "<p>Ask user for input, check to see if the letter 'p' is in the input</p>"
   ]
  },
  {
   "cell_type": "code",
   "execution_count": 10,
   "metadata": {},
   "outputs": [
    {
     "name": "stdout",
     "output_type": "stream",
     "text": [
      "What is your name? phil\n",
      "You gotta P in your name!\n"
     ]
    }
   ],
   "source": [
    "name = input('What is your name? ')\n",
    "if 'p' not in name:\n",
    "    print('Theres no p in yo name!')\n",
    "else:\n",
    "    print(\"You gotta P in your name!\")"
   ]
  },
  {
   "cell_type": "markdown",
   "metadata": {},
   "source": [
    "## Using 'and'/'or' with If Statements"
   ]
  },
  {
   "cell_type": "code",
   "execution_count": 41,
   "metadata": {},
   "outputs": [
    {
     "name": "stdout",
     "output_type": "stream",
     "text": [
      "True and True\n",
      "True and False\n"
     ]
    }
   ],
   "source": [
    "# Truth Tree:\n",
    "# T && F = F\n",
    "# T && T = T\n",
    "# T || F = T\n",
    "# F || T = T\n",
    "# F || F = F\n",
    "\n",
    "num_11 = 15\n",
    "num_12 = 3\n",
    "num_13 = 10\n",
    "num_14 = 3\n",
    "\n",
    "# If with \"and\" statment\n",
    "if num_11 / 5 == num_12 and num_13 - 7 == num_14:\n",
    "    print(\"True and True\")\n",
    "    \n",
    "# If with \"or\" statement\n",
    "if num_11 > num_12 or num_13 == num_14:\n",
    "    print(\"True and False\")"
   ]
  },
  {
   "cell_type": "markdown",
   "metadata": {},
   "source": [
    "### Elif Statements"
   ]
  },
  {
   "cell_type": "code",
   "execution_count": null,
   "metadata": {},
   "outputs": [],
   "source": [
    "first_name = \"Max\"\n",
    "age = 10\n",
    "\n",
    "if first_name == 'Max' and age == 10:\n",
    "    print(\"I am Max, and I am 10\")\n",
    "elif first_name == \"Max\" or age == 10:\n",
    "    print(\"I am either Max or I am 10\")\n",
    "else:\n",
    "    print(\"The name is not Max\")\n"
   ]
  },
  {
   "cell_type": "markdown",
   "metadata": {},
   "source": [
    "### Else Statements"
   ]
  },
  {
   "cell_type": "code",
   "execution_count": null,
   "metadata": {},
   "outputs": [],
   "source": [
    "# see above"
   ]
  },
  {
   "cell_type": "markdown",
   "metadata": {},
   "source": [
    "### For Loops"
   ]
  },
  {
   "cell_type": "code",
   "execution_count": 58,
   "metadata": {},
   "outputs": [
    {
     "name": "stdout",
     "output_type": "stream",
     "text": [
      "S\n",
      "e\n",
      "a\n",
      "n\n",
      " \n",
      "B\n",
      "u\n",
      "n\n",
      "k\n"
     ]
    }
   ],
   "source": [
    "# for item in iterable_thing:\n",
    "    # do some stuff\n",
    "    \n",
    "name = 'Sean Bunk'\n",
    "# print(len(name))\n",
    "\n",
    "# for letter in name:\n",
    "#     print(letter)\n",
    "\n",
    "for letter in range(len(name)):\n",
    "    print(name[letter])\n"
   ]
  },
  {
   "cell_type": "markdown",
   "metadata": {},
   "source": [
    "##### Using 'in' keyword"
   ]
  },
  {
   "cell_type": "code",
   "execution_count": null,
   "metadata": {},
   "outputs": [],
   "source": [
    "# see above"
   ]
  },
  {
   "cell_type": "markdown",
   "metadata": {},
   "source": [
    "##### Continue Statement"
   ]
  },
  {
   "cell_type": "code",
   "execution_count": null,
   "metadata": {},
   "outputs": [],
   "source": [
    "# will continue to next iteration"
   ]
  },
  {
   "cell_type": "code",
   "execution_count": 59,
   "metadata": {},
   "outputs": [
    {
     "name": "stdout",
     "output_type": "stream",
     "text": [
      "0\n",
      "1\n",
      "2\n",
      "3\n",
      "4\n",
      "6\n",
      "7\n",
      "8\n",
      "9\n",
      "10\n",
      "11\n",
      "12\n",
      "13\n",
      "14\n",
      "15\n",
      "16\n",
      "17\n",
      "18\n",
      "19\n"
     ]
    }
   ],
   "source": [
    "for i in range(20):\n",
    "    if i == 5:\n",
    "        continue\n",
    "    print(i)"
   ]
  },
  {
   "cell_type": "markdown",
   "metadata": {},
   "source": [
    "##### Break Statement"
   ]
  },
  {
   "cell_type": "code",
   "execution_count": null,
   "metadata": {},
   "outputs": [],
   "source": [
    "# will break out of current loop"
   ]
  },
  {
   "cell_type": "code",
   "execution_count": 60,
   "metadata": {},
   "outputs": [
    {
     "name": "stdout",
     "output_type": "stream",
     "text": [
      "0\n",
      "1\n",
      "2\n",
      "3\n",
      "4\n"
     ]
    }
   ],
   "source": [
    "for i in range(20):\n",
    "    if i == 5:\n",
    "        break\n",
    "    print(i)\n"
   ]
  },
  {
   "cell_type": "markdown",
   "metadata": {},
   "source": [
    "##### Pass Statement"
   ]
  },
  {
   "cell_type": "code",
   "execution_count": null,
   "metadata": {},
   "outputs": [],
   "source": [
    "# mostly used as a placeholder, and will continue on same iteration"
   ]
  },
  {
   "cell_type": "code",
   "execution_count": 61,
   "metadata": {},
   "outputs": [],
   "source": [
    "for i in name:\n",
    "    pass\n",
    "# i will come back and finish this part of my code later!"
   ]
  },
  {
   "cell_type": "markdown",
   "metadata": {},
   "source": [
    "##### Double For Loops"
   ]
  },
  {
   "cell_type": "code",
   "execution_count": 64,
   "metadata": {},
   "outputs": [
    {
     "name": "stdout",
     "output_type": "stream",
     "text": [
      "i =  0 j =  0\n",
      "i =  0 j =  1\n",
      "i =  0 j =  2\n",
      "i =  0 j =  3\n",
      "i =  0 j =  4\n",
      "i =  1 j =  0\n",
      "i =  1 j =  1\n",
      "i =  1 j =  2\n",
      "i =  1 j =  3\n",
      "i =  1 j =  4\n",
      "i =  2 j =  0\n",
      "i =  2 j =  1\n",
      "i =  2 j =  2\n",
      "i =  2 j =  3\n",
      "i =  2 j =  4\n",
      "i =  3 j =  0\n",
      "i =  3 j =  1\n",
      "i =  3 j =  2\n",
      "i =  3 j =  3\n",
      "i =  3 j =  4\n",
      "i =  4 j =  0\n",
      "i =  4 j =  1\n",
      "i =  4 j =  2\n",
      "i =  4 j =  3\n",
      "i =  4 j =  4\n"
     ]
    }
   ],
   "source": [
    "for i in range(5):\n",
    "    for j in range(5):\n",
    "        print(\"i = \",i , \"j = \", j)"
   ]
  },
  {
   "cell_type": "markdown",
   "metadata": {},
   "source": [
    "### While Loops"
   ]
  },
  {
   "cell_type": "code",
   "execution_count": 2,
   "metadata": {},
   "outputs": [
    {
     "name": "stdout",
     "output_type": "stream",
     "text": [
      "0\n",
      "1\n",
      "2\n",
      "3\n",
      "4\n",
      "5\n",
      "6\n",
      "7\n",
      "8\n",
      "9\n"
     ]
    }
   ],
   "source": [
    "#while condition statement (something that is true or false):\n",
    "    #do some stuff repeatedly\n",
    "\n",
    "num = 0\n",
    "while num < 10:\n",
    "    print(num)\n",
    "    num += 1\n",
    "\n",
    "# while True:\n",
    "#     if num >= 10:\n",
    "#         break\n",
    "#     print(num)\n",
    "#     num +=1"
   ]
  },
  {
   "cell_type": "markdown",
   "metadata": {},
   "source": [
    "##### Looping 'While True'"
   ]
  },
  {
   "cell_type": "code",
   "execution_count": 2,
   "metadata": {},
   "outputs": [
    {
     "name": "stdout",
     "output_type": "stream",
     "text": [
      "Say some stuff quit\n",
      "quit\n",
      "Score: 1\n"
     ]
    }
   ],
   "source": [
    "# game_over = True\n",
    "\n",
    "# while game_over:\n",
    "#     print(\"Infinite Loop\")\n",
    "#     game_over = False\n",
    "\n",
    "game_running = True\n",
    "score = 0\n",
    "    \n",
    "while game_running:\n",
    "    user_input= input(\"Say some stuff \")\n",
    "    if user_input == \"quit\":\n",
    "        game_running =False\n",
    "    print(user_input)\n",
    "    score += 1\n",
    "    print(f\"Score: {score}\")\n"
   ]
  },
  {
   "cell_type": "markdown",
   "metadata": {},
   "source": [
    "##### While & For Loops Used Together"
   ]
  },
  {
   "cell_type": "code",
   "execution_count": 3,
   "metadata": {},
   "outputs": [
    {
     "name": "stdout",
     "output_type": "stream",
     "text": [
      "\n",
      " While Loop Iteration: 0\n",
      "For Loop Iteration: 0\n",
      "For Loop Iteration: 1\n",
      "\n",
      " While Loop Iteration: 1\n",
      "For Loop Iteration: 0\n",
      "For Loop Iteration: 1\n",
      "\n",
      " While Loop Iteration: 2\n",
      "For Loop Iteration: 0\n",
      "For Loop Iteration: 1\n",
      "\n",
      " While Loop Iteration: 3\n",
      "For Loop Iteration: 0\n",
      "For Loop Iteration: 1\n",
      "\n",
      " While Loop Iteration: 4\n",
      "For Loop Iteration: 0\n",
      "For Loop Iteration: 1\n",
      "\n",
      " While Loop Iteration: 5\n",
      "For Loop Iteration: 0\n",
      "For Loop Iteration: 1\n"
     ]
    }
   ],
   "source": [
    "num = 0 \n",
    "\n",
    "while num <= 5:\n",
    "    print(\"\\n While Loop Iteration: \" + str(num))\n",
    "    \n",
    "    for i in range(2):\n",
    "        print(\"For Loop Iteration: \" + str(i))\n",
    "    \n",
    "    num +=1"
   ]
  },
  {
   "cell_type": "markdown",
   "metadata": {},
   "source": [
    "### Built-In Functions"
   ]
  },
  {
   "cell_type": "markdown",
   "metadata": {},
   "source": [
    "##### range()"
   ]
  },
  {
   "cell_type": "code",
   "execution_count": 6,
   "metadata": {},
   "outputs": [
    {
     "name": "stdout",
     "output_type": "stream",
     "text": [
      "5\n",
      "10\n",
      "15\n"
     ]
    }
   ],
   "source": [
    "#range(start,stop,step)\n",
    "#Defaults: start= 0, stop is REQUIRED, step= 1\n",
    "\n",
    "# for i in range(20):\n",
    "#     print(i)\n",
    "    \n",
    "for i in range(5,20, 5):\n",
    "    print(i)"
   ]
  },
  {
   "cell_type": "markdown",
   "metadata": {},
   "source": [
    "##### len()"
   ]
  },
  {
   "cell_type": "code",
   "execution_count": 7,
   "metadata": {},
   "outputs": [
    {
     "name": "stdout",
     "output_type": "stream",
     "text": [
      "3\n"
     ]
    }
   ],
   "source": [
    "name = \"Max\"\n",
    "\n",
    "length= len(name)\n",
    "print(length)"
   ]
  },
  {
   "cell_type": "markdown",
   "metadata": {},
   "source": [
    "##### help()"
   ]
  },
  {
   "cell_type": "code",
   "execution_count": 10,
   "metadata": {},
   "outputs": [
    {
     "name": "stdout",
     "output_type": "stream",
     "text": [
      "Help on built-in function print in module builtins:\n",
      "\n",
      "print(...)\n",
      "    print(value, ..., sep=' ', end='\\n', file=sys.stdout, flush=False)\n",
      "    \n",
      "    Prints the values to a stream, or to sys.stdout by default.\n",
      "    Optional keyword arguments:\n",
      "    file:  a file-like object (stream); defaults to the current sys.stdout.\n",
      "    sep:   string inserted between values, default a space.\n",
      "    end:   string appended after the last value, default a newline.\n",
      "    flush: whether to forcibly flush the stream.\n",
      "\n"
     ]
    }
   ],
   "source": [
    "#The Python help() function invokes the interactive built-in help system. \n",
    "\n",
    "help(print)\n"
   ]
  },
  {
   "cell_type": "markdown",
   "metadata": {},
   "source": [
    "##### isinstance()"
   ]
  },
  {
   "cell_type": "code",
   "execution_count": 12,
   "metadata": {},
   "outputs": [
    {
     "name": "stdout",
     "output_type": "stream",
     "text": [
      "False\n",
      "This number is a float type\n"
     ]
    }
   ],
   "source": [
    "#T he isinstance() function returns True if the specified object is of the specified type, otherwise False .\n",
    "#If the type parameter is a tuple, this function will return True if the object is one of the types in the tuple.\n",
    "\n",
    "print(isinstance(4.5, int))\n",
    "\n",
    "if isinstance(4.5, float):\n",
    "    print(\"This number is a float type\")"
   ]
  },
  {
   "cell_type": "markdown",
   "metadata": {},
   "source": [
    "##### abs()"
   ]
  },
  {
   "cell_type": "code",
   "execution_count": 13,
   "metadata": {},
   "outputs": [
    {
     "name": "stdout",
     "output_type": "stream",
     "text": [
      "6\n"
     ]
    }
   ],
   "source": [
    "# | 5| absolute values\n",
    "\n",
    "print(abs(-6))"
   ]
  },
  {
   "cell_type": "markdown",
   "metadata": {},
   "source": [
    "### Try and Except"
   ]
  },
  {
   "cell_type": "code",
   "execution_count": 15,
   "metadata": {},
   "outputs": [
    {
     "name": "stdout",
     "output_type": "stream",
     "text": [
      "Guess a number: 4\n",
      "Your number is: 4\n"
     ]
    }
   ],
   "source": [
    "# Use this whenever you expect to encounter a bug so that the error doesn't cause the program to stop\n",
    "# Use this to log out graceful and informative error messages\n",
    "\n",
    "try:\n",
    "    number_test = 0\n",
    "    input_num = int(input(\"Guess a number: \"))\n",
    "    if input_num != number_test:\n",
    "        input_num = input_num + number_test\n",
    "        print(\"Your number is: \" + str(input_num))\n",
    "except:\n",
    "    print(\"That did not work - ERROR please change your input to a number\")"
   ]
  },
  {
   "cell_type": "markdown",
   "metadata": {},
   "source": [
    "### Lists"
   ]
  },
  {
   "cell_type": "markdown",
   "metadata": {},
   "source": [
    "##### Declaring Lists"
   ]
  },
  {
   "cell_type": "code",
   "execution_count": 31,
   "metadata": {},
   "outputs": [
    {
     "name": "stdout",
     "output_type": "stream",
     "text": [
      "['Max', 'Cindy', 'Kathy', 5, 'Nate']\n"
     ]
    }
   ],
   "source": [
    "my_list = [] #empty list\n",
    "\n",
    "names = [\"Max\", \"Cindy\",\"Kathy\", 5, \"Nate\"]\n",
    "print(names)"
   ]
  },
  {
   "cell_type": "markdown",
   "metadata": {},
   "source": [
    "##### Indexing a List"
   ]
  },
  {
   "cell_type": "code",
   "execution_count": 16,
   "metadata": {},
   "outputs": [
    {
     "name": "stdout",
     "output_type": "stream",
     "text": [
      "5\n",
      "Nate\n",
      "['Cindy', 'Kathy', 5, 'Nate']\n",
      "['Max', 'Cindy', 'Kathy']\n",
      "['Kathy', 5]\n",
      "['Cindy', 5]\n",
      "['Nate', 5, 'Kathy', 'Cindy', 'Max']\n"
     ]
    }
   ],
   "source": [
    "#Syntax: list_name[start,stop,step]\n",
    "\n",
    "# single index\n",
    "print(names[3])\n",
    "\n",
    "# Print the last value NO MATTER THE SIZE OF THE LIST:\n",
    "print(names[-1])\n",
    "\n",
    "# Print starting at 1 going to the end\n",
    "print(names[1:])\n",
    "\n",
    "# Print starting at beginning of list until the whatever index we give it\n",
    "print(names[:3])\n",
    "\n",
    "# Print from one inde to another\n",
    "print(names[2:4])\n",
    "\n",
    "# Print starting at index 1 going up by 2 for each iteration\n",
    "print(names[1::2])\n",
    "\n",
    "# Print starting at the end and going down by 1 each time\n",
    "print(names[::-1])\n"
   ]
  },
  {
   "cell_type": "markdown",
   "metadata": {},
   "source": [
    "##### .append()"
   ]
  },
  {
   "cell_type": "code",
   "execution_count": 32,
   "metadata": {},
   "outputs": [
    {
     "name": "stdout",
     "output_type": "stream",
     "text": [
      "['Max', 'Cindy', 'Kathy', 5, 'Nate', 'bob']\n"
     ]
    }
   ],
   "source": [
    "names.append(\"bob\")\n",
    "print(names)"
   ]
  },
  {
   "cell_type": "markdown",
   "metadata": {},
   "source": [
    "##### .insert()"
   ]
  },
  {
   "cell_type": "code",
   "execution_count": 33,
   "metadata": {},
   "outputs": [
    {
     "name": "stdout",
     "output_type": "stream",
     "text": [
      "['Max', 'Cindy', 'Kathy', 'Gabby', 5, 'Nate', 'bob']\n"
     ]
    }
   ],
   "source": [
    "names.insert(3, 'Gabby')\n",
    "print(names)"
   ]
  },
  {
   "cell_type": "markdown",
   "metadata": {},
   "source": [
    "##### .pop()"
   ]
  },
  {
   "cell_type": "code",
   "execution_count": 34,
   "metadata": {},
   "outputs": [
    {
     "name": "stdout",
     "output_type": "stream",
     "text": [
      "Gabby\n",
      "['Max', 'Cindy', 'Kathy', 5, 'Nate', 'bob']\n"
     ]
    }
   ],
   "source": [
    "# default is the last value if no parameter is given\n",
    "# pop returns the element that was removed in case you want to assign it into a variable\n",
    "\n",
    "my_name = names.pop(3)\n",
    "print(my_name)\n",
    "print(names)"
   ]
  },
  {
   "cell_type": "markdown",
   "metadata": {},
   "source": [
    "\n",
    "##### .remove()"
   ]
  },
  {
   "cell_type": "code",
   "execution_count": 35,
   "metadata": {},
   "outputs": [
    {
     "name": "stdout",
     "output_type": "stream",
     "text": [
      "['Max', 'Cindy', 'Kathy', 5, 'Nate']\n"
     ]
    }
   ],
   "source": [
    "# Value to be removed, not the index\n",
    "# names.remove('bob')\n",
    "# print(names)\n",
    "\n",
    "#remove multiple bobs from the list\n",
    "while 'bob' in names:\n",
    "    names.remove('bob')\n",
    "print(names)"
   ]
  },
  {
   "cell_type": "markdown",
   "metadata": {},
   "source": [
    "##### del()"
   ]
  },
  {
   "cell_type": "code",
   "execution_count": 36,
   "metadata": {},
   "outputs": [
    {
     "name": "stdout",
     "output_type": "stream",
     "text": [
      "['Max', 'Kathy', 5, 'Nate']\n"
     ]
    }
   ],
   "source": [
    "# Be careful, it can cause indexing errors if used imporoperly\n",
    "# remove by index\n",
    "\n",
    "del(names[1])\n",
    "print(names)"
   ]
  },
  {
   "cell_type": "markdown",
   "metadata": {},
   "source": [
    "##### Concatenating Two Lists"
   ]
  },
  {
   "cell_type": "code",
   "execution_count": 37,
   "metadata": {},
   "outputs": [
    {
     "name": "stdout",
     "output_type": "stream",
     "text": [
      "[0, 1, 2, 3, 4, 5]\n"
     ]
    }
   ],
   "source": [
    "first_list = [0,1,2]\n",
    "second_list = [3,4,5]\n",
    "\n",
    "big_list = first_list + second_list\n",
    "print(big_list)"
   ]
  },
  {
   "cell_type": "markdown",
   "metadata": {},
   "source": [
    "##### Lists Within Lists"
   ]
  },
  {
   "cell_type": "code",
   "execution_count": 40,
   "metadata": {},
   "outputs": [
    {
     "name": "stdout",
     "output_type": "stream",
     "text": [
      "['Max', 'Sam', 'Josh', ['Sally', 'Sue', 'Tamika']]\n",
      "['Sally', 'Sue', 'Tamika']\n",
      "Sue\n"
     ]
    }
   ],
   "source": [
    "names = ['Max', 'Sam', 'Josh',['Sally', 'Sue', 'Tamika']]\n",
    "\n",
    "print(names)\n",
    "print(names[3])\n",
    "print(names[3][1])"
   ]
  },
  {
   "cell_type": "markdown",
   "metadata": {},
   "source": [
    "##### Looping Through Lists"
   ]
  },
  {
   "cell_type": "code",
   "execution_count": 42,
   "metadata": {},
   "outputs": [
    {
     "name": "stdout",
     "output_type": "stream",
     "text": [
      "Max\n",
      "Sam\n",
      "Josh\n",
      "['Sally', 'Sue', 'Tamika']\n",
      "Max\n",
      "Sam\n",
      "Josh\n",
      "['Sally', 'Sue', 'Tamika']\n"
     ]
    }
   ],
   "source": [
    "# two ways to loop through a list, one is by index, the other is by using the 'in' keyword\n",
    "\n",
    "# With a for loop using the index\n",
    "for i in range(len(names)):\n",
    "    print(names[i])\n",
    "    \n",
    "# Loop with a for loop an in\n",
    "for i in names:\n",
    "    print(i)\n"
   ]
  },
  {
   "cell_type": "markdown",
   "metadata": {},
   "source": [
    "## Exercise #1 <br>\n",
    "<p>Cube Number Test... Print out all cubed numbers up to the total value 1000. Meaning that if the cubed number is over 1000 break the loop.</p>"
   ]
  },
  {
   "cell_type": "code",
   "execution_count": 1,
   "metadata": {},
   "outputs": [
    {
     "name": "stdout",
     "output_type": "stream",
     "text": [
      "1\n",
      "8\n",
      "27\n",
      "64\n",
      "125\n",
      "216\n",
      "343\n",
      "512\n",
      "729\n",
      "1000\n"
     ]
    }
   ],
   "source": [
    "cubed = range(1,1200)\n",
    "\n",
    "for i in cubed:\n",
    "    cubed = i**3\n",
    "    if cubed > 1000:\n",
    "        break\n",
    "    print(cubed)\n",
    "    \n",
    "\n",
    "\n",
    "  "
   ]
  },
  {
   "cell_type": "markdown",
   "metadata": {},
   "source": [
    "## Exercise #2 <br>\n",
    "<p>Get first prime numbers up to 100</p>"
   ]
  },
  {
   "cell_type": "code",
   "execution_count": 13,
   "metadata": {},
   "outputs": [
    {
     "name": "stdout",
     "output_type": "stream",
     "text": [
      "3\n",
      "5\n",
      "7\n",
      "9\n",
      "11\n",
      "13\n",
      "15\n",
      "17\n",
      "19\n",
      "21\n",
      "23\n",
      "25\n",
      "27\n",
      "29\n",
      "31\n",
      "33\n",
      "35\n",
      "37\n",
      "39\n",
      "41\n",
      "43\n",
      "45\n",
      "47\n",
      "49\n",
      "51\n",
      "53\n",
      "55\n",
      "57\n",
      "59\n",
      "61\n",
      "63\n",
      "65\n",
      "67\n",
      "69\n",
      "71\n",
      "73\n",
      "75\n",
      "77\n",
      "79\n",
      "81\n",
      "83\n",
      "85\n",
      "87\n",
      "89\n",
      "91\n",
      "93\n",
      "95\n",
      "97\n",
      "99\n"
     ]
    }
   ],
   "source": [
    "# HINT::\n",
    "# An else after an if runs if the if didn’t\n",
    "# An else after a for runs if the for didn’t break\n",
    "\n",
    "for num in range(1, 101):\n",
    "    for i in range(2, num):\n",
    "        if num % i == 0:\n",
    "            break\n",
    "        else:\n",
    "            print(num)\n",
    "            break\n",
    "\n",
    "\n"
   ]
  },
  {
   "cell_type": "markdown",
   "metadata": {},
   "source": [
    "# Exercise 3 <br>\n",
    "<p>Take in a users input for their age, if they are younger than 18 print kids, if they're 18 to 65 print adults, else print seniors</p>"
   ]
  },
  {
   "cell_type": "code",
   "execution_count": 3,
   "metadata": {},
   "outputs": [
    {
     "name": "stdout",
     "output_type": "stream",
     "text": [
      "What is your age? 66\n",
      "Senior citizen\n"
     ]
    }
   ],
   "source": [
    "\n",
    "user_age = input(\"What is your age? \")\n",
    "\n",
    "if int(user_age) < 18:\n",
    "    print(\"kids\")\n",
    "elif int(user_age) <= 65:\n",
    "    print('adults')\n",
    "else:\n",
    "    print(\"Senior citizen\")\n"
   ]
  }
 ],
 "metadata": {
  "kernelspec": {
   "display_name": "Python 3 (ipykernel)",
   "language": "python",
   "name": "python3"
  },
  "language_info": {
   "codemirror_mode": {
    "name": "ipython",
    "version": 3
   },
   "file_extension": ".py",
   "mimetype": "text/x-python",
   "name": "python",
   "nbconvert_exporter": "python",
   "pygments_lexer": "ipython3",
   "version": "3.9.13"
  }
 },
 "nbformat": 4,
 "nbformat_minor": 2
}
